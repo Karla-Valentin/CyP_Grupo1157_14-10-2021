{
  "nbformat": 4,
  "nbformat_minor": 0,
  "metadata": {
    "colab": {
      "name": "Fundamentos CyP 1157.ipynb",
      "provenance": [],
      "authorship_tag": "ABX9TyPl1Tn2J2u0n3EHb64D7D9F",
      "include_colab_link": true
    },
    "kernelspec": {
      "name": "python3",
      "display_name": "Python 3"
    },
    "language_info": {
      "name": "python"
    }
  },
  "cells": [
    {
      "cell_type": "markdown",
      "metadata": {
        "id": "view-in-github",
        "colab_type": "text"
      },
      "source": [
        "<a href=\"https://colab.research.google.com/github/Karla-Valentin/CyP_Grupo1157_14-10-2021/blob/main/CyP_1157%20jueves%2014%20de%20octubre%20de%202021.ipynb\" target=\"_parent\"><img src=\"https://colab.research.google.com/assets/colab-badge.svg\" alt=\"Open In Colab\"/></a>"
      ]
    },
    {
      "cell_type": "code",
      "metadata": {
        "colab": {
          "base_uri": "https://localhost:8080/"
        },
        "id": "rMJYT3fBVZem",
        "outputId": "f15c8665-9cbd-49ba-fbb3-3bdb75e18d59"
      },
      "source": [
        "nombre = \"Jose\" #tipo de dat string (cadena de caracteres) \n",
        "print (nombre)\n"
      ],
      "execution_count": null,
      "outputs": [
        {
          "output_type": "stream",
          "name": "stdout",
          "text": [
            "Jose\n"
          ]
        }
      ]
    },
    {
      "cell_type": "markdown",
      "metadata": {
        "id": "445mEXVKXIE3"
      },
      "source": [
        "#Tipos de datos en Phyton\n",
        "### Tipos simples\n",
        "- str --> String cadena de \n",
        "caracteres. \n",
        "- int --> Numeros enteros \n",
        "- float --> Numeros con notación de punto flotante. Son numeros con punto decimal.\n",
        "- complex --> Numeros complejos\n",
        "- bool --> Boleano (True o False)\n",
        "- byte --> 8 bits \n",
        "\n",
        "### Tipos de datos estructurados (compuestos)\n",
        "- list --> Listas (Arreglos en otros lenguajes)\n",
        "- dict --> diccionarios\n",
        "- set y frozenset --> Conjuntos\n",
        "- tuple --> Listas no mutables\n"
      ]
    },
    {
      "cell_type": "code",
      "metadata": {
        "colab": {
          "base_uri": "https://localhost:8080/"
        },
        "id": "U8QjUnrqaRxa",
        "outputId": "0b56e130-6dd5-47e7-def1-222b44eb7ed5"
      },
      "source": [
        "import sys\n",
        "edad = 19 \n",
        "print (\"Tu edad es:\" ,edad) #al final de una línea de código\n",
        "#Este es un comentario de línea simple \n",
        "\"\"\"\n",
        "Comentario multiple línea\n",
        "En lenguaje C, C++ y Java el comentario de múltiple linea es con /* ..... */\n",
        "\n",
        "En lenguaje C, C++ y Java el comentario de una sola línea es con: \n",
        "//\n",
        "Aquí puedes explicar en prosa el segmento de un código para futura \n",
        "\"\"\"\n",
        "# Tipos de datos numericos int y float \n",
        "\n",
        "print (sys.getsizeof (edad)) \n",
        "#El tipo de dato INT utiliza diferentes cantidades de bits segun el \n",
        "#leg de programa por ejemplo en C utiliza 16 bits.\n",
        "edad = edad + 1 #Variable porque puede cambiar el resultado\n",
        "print (edad) \n",
        "\n",
        "estatura = 1.56 #valor flotante\n",
        "print (estatura)\n",
        "print (sys.getsizeof(estatura))\n",
        "estatura = estatura + 0.1\n",
        "print (estatura)\n",
        "print ( round (estatura,2))#Se le agrega eso para redondearlo a 2 decimales.\n",
        "\n",
        "edad += 1 # es lo mismo que decir edad = edad + 1\n",
        "print (\"Tu edad es:\" ,edad)\n",
        "\n",
        "edad -= 1 # es lo mismo que decir edad = edad - 1\n",
        "print (\"Tu edad es:\" ,edad)\n",
        "\n",
        "edad += 1\n",
        "edad /= 2 # es lo mismo que decir edad = edad/2\n",
        "print (\"Tu edad es:\" ,edad)\n",
        "\n",
        "edad = 21 \n",
        "#volver a calcular la mitad de la edad pero solo dejar parte entera con //\n",
        "edad = edad //2\n",
        "print (\"Tu edad es:\" ,edad)\n",
        "\n",
        "#En la mayoria de los leng no permite operaciones entre difeentes tipos de datos \n",
        "#en phyton no es el caso.\n",
        "numero = edad / 2.0\n",
        "print (numero)\n",
        "\n",
        "numero = numero * 3 #Multiplicacion: tambien se puede poner numero *= 3\n",
        "print (numero)\n",
        "\n",
        "numero = 5.0 \n",
        "numero = numero **2 #se esta elevando al cuadrado\n",
        "print (numero)\n",
        "\n",
        "#Operador modulo\n",
        "numero = 21\n",
        "print (numero / 2)\n",
        "\n",
        "print (numero // 2)#Para parte entera\n",
        "#El operador modulo da como resultado el residuo de una division entera \n",
        "print(numero % 2)\n",
        "\n",
        "numero = 24 \n",
        "print (\"Residuo de 24/5:\" , numero % 5)\n",
        "\n",
        "# Operadores relacionales (lógicos):\n",
        "\n",
        "#Para saber si un nuemro es par:\n",
        "print(numero % 2 == 0) #si da 0 es que es verdad\n",
        "\n",
        "# Diferencia\n",
        "print (\"24 es diferente de 23=\" , numero != 23)\n",
        "print(\"24 es mayor que 23\", numero > 23)\n",
        "print(\"24 es menor que 23\", numero < 23) \n",
        "\n",
        "print(\"24 es mayor o igual que 24\", numero >= 24)\n",
        "print(\"24 es menor o igual que 23\", numero <= 23)\n",
        "\n",
        "print(\"El tipo de dato de la variable numero es:\" , type(numero))\n",
        "print(\"El tipo de dato de la variable numero entre 2.0 es:\" , type(numero /2.0))\n"
      ],
      "execution_count": null,
      "outputs": [
        {
          "output_type": "stream",
          "name": "stdout",
          "text": [
            "Tu edad es: 19\n",
            "28\n",
            "20\n",
            "1.56\n",
            "24\n",
            "1.6600000000000001\n",
            "1.66\n",
            "Tu edad es: 21\n",
            "Tu edad es: 20\n",
            "Tu edad es: 10.5\n",
            "Tu edad es: 10\n",
            "5.0\n",
            "15.0\n",
            "25.0\n",
            "10.5\n",
            "10\n",
            "1\n",
            "Residuo de 24/5: 4\n",
            "True\n",
            "24 es diferente de 23= True\n",
            "24 es mayor que 23 True\n",
            "24 es menor que 23 False\n",
            "24 es mayor o igual que 24 True\n",
            "24 es menor o igual que 23 False\n",
            "El tipo de dato de la variable numero es: <class 'int'>\n",
            "El tipo de dato de la variable numero entre 2.0 es: <class 'float'>\n"
          ]
        }
      ]
    },
    {
      "cell_type": "markdown",
      "metadata": {
        "id": "VPtCbMR-pcWo"
      },
      "source": [
        "# Tipo de dato String (str) en Python\n",
        "\n",
        "- Se maneja como un arreglo (tipo de dato compuesto)\n",
        "- Se puede acceder a los elemntos de el string por medio del indice del caracter.\n",
        "- Mutable\n",
        "- Tiene metodos utiles (potentes)\n",
        "- Tiene slicing "
      ]
    },
    {
      "cell_type": "code",
      "metadata": {
        "colab": {
          "base_uri": "https://localhost:8080/"
        },
        "id": "_4RC8eSfp_Xk",
        "outputId": "2dee3329-19ce-4dd0-cf10-b94e7e3cf290"
      },
      "source": [
        "nombre = 'Jose' #comillas simples si son palabras cortas\n",
        "Carrera = \"Ingenieria en computación\" #Comillas normales con palabras así\n",
        "frase = \"\"\" El conocimiento \n",
        "me persigue,.......\n",
        "pero\n",
        "yo soy más rápido\n",
        "\"\"\"\n",
        "print (nombre)\n",
        "print (Carrera)\n",
        "print (frase)\n",
        "\n",
        "# La función type de Python te devuelve el tipo de dato de una cariable\n",
        "print( type(nombre))\n",
        "\n",
        "paterno = str( \"Perez\")\n",
        "print(paterno)"
      ],
      "execution_count": null,
      "outputs": [
        {
          "output_type": "stream",
          "name": "stdout",
          "text": [
            "Jose\n",
            "Ingenieria en computación\n",
            " El conocimiento\n",
            "me persigue,.......\n",
            "pero\n",
            "yo soy más rápido\n",
            "\n",
            "<class 'str'>\n",
            "Perez\n"
          ]
        }
      ]
    },
    {
      "cell_type": "markdown",
      "metadata": {
        "id": "jEz6WzpvpCq4"
      },
      "source": [
        "Una clase (class) es un tipo de dato compuesto.\n"
      ]
    },
    {
      "cell_type": "code",
      "metadata": {
        "colab": {
          "base_uri": "https://localhost:8080/"
        },
        "id": "1iFOmjy_pXq6",
        "outputId": "9faf97b7-e3a7-4446-e61b-0b27c9ef0517"
      },
      "source": [
        "Carrera = \"Ingenieria en computación\"\n",
        "print (Carrera)\n",
        "print (Carrera [2]) #para imprimir la g, ya que se empieza a contar desde 0\n",
        "print (Carrera [8]) #para imprimir la letra i\n",
        "print (Carrera [24]) #para imprimir n\n",
        "print (Carrera [-1]) #para imprimir n (indexado negativo)\n",
        "print (Carrera [-25]) #Para imprimir la primer letra\n",
        "\n",
        "#Adelantando el tema del ciclo FOR\n",
        "\n",
        "for letra in Carrera:\n",
        "  print ( \"-->\" ,letra , \"<--\" ) #para que imprima cada letra de la palabra\n",
        "  "
      ],
      "execution_count": 9,
      "outputs": [
        {
          "output_type": "stream",
          "name": "stdout",
          "text": [
            "Ingenieria en computación\n",
            "g\n",
            "i\n",
            "n\n",
            "n\n",
            "I\n",
            "--> I <--\n",
            "--> n <--\n",
            "--> g <--\n",
            "--> e <--\n",
            "--> n <--\n",
            "--> i <--\n",
            "--> e <--\n",
            "--> r <--\n",
            "--> i <--\n",
            "--> a <--\n",
            "-->   <--\n",
            "--> e <--\n",
            "--> n <--\n",
            "-->   <--\n",
            "--> c <--\n",
            "--> o <--\n",
            "--> m <--\n",
            "--> p <--\n",
            "--> u <--\n",
            "--> t <--\n",
            "--> a <--\n",
            "--> c <--\n",
            "--> i <--\n",
            "--> ó <--\n",
            "--> n <--\n"
          ]
        }
      ]
    },
    {
      "cell_type": "markdown",
      "metadata": {
        "id": "2NOtV-XqrnvI"
      },
      "source": [
        "#A la sintxis escrita para elegir un elemento de datos se le llama selector\n",
        "en el caso de strings y listas (lst) se usan los carateres '[' y ']'\n",
        "\n",
        "1. En todos los lenguajes los arreglos inician en 0.\n",
        "2. En phyton no existe como tal el tipo de dato arreglo, el concepto es sustituido por las listas.\n",
        "3. Los strings se comportan como un arreglo en la mayoría de los lenguhjes.\n",
        "4. En phyton se acepta en indexado negativo, en otros lenguajes NO. "
      ]
    },
    {
      "cell_type": "markdown",
      "metadata": {
        "id": "keGOpbMhu7Vt"
      },
      "source": [
        "# Slicing (rebanado) de cadenas\n",
        "\n",
        "Permite seleccionar subcadenas con el operador\n",
        "###[inicio: stop: incremento]\n",
        "El stop no se incluye, es por eso que debemos agregar una posicion extra.\n",
        "\n",
        "### Slicing y valores por defecto\n",
        "\n",
        "inicio por defecto siempre sera 0\n",
        "stop: tamaño del arreglo (indexado positivo) \n",
        "y sera 0 en un indexado negativo.\n",
        "incremento: por defecto es 1 (en indexado positivo)"
      ]
    },
    {
      "cell_type": "code",
      "metadata": {
        "colab": {
          "base_uri": "https://localhost:8080/"
        },
        "id": "RE_EKmGfvVRI",
        "outputId": "d0f7893f-16c6-48e5-ee6a-06c695b82683"
      },
      "source": [
        "Carrera = \"Ingenieria en computación\"\n",
        "print( Carrera [0:10:1]) #para imprimir la palabra carrera y el 0 es que incluye desde la I y el 10 por una posiciondespues de la a\n",
        "print( Carrera [14:25:1])\n",
        "print( Carrera [-11:-1:1])\n",
        "print( Carrera [:10:]) # se puede quitar el 1 y el 0 y va a salir lo mismo\n",
        "print( Carrera [14:25:])\n",
        "print( Carrera [-11:0:1]) #para imprimir computación con indexado negativo\n",
        "\n",
        "# Un ejercicio mas para ver incremento \n",
        "print( Carrera [0:10:2]) #se pone el 2 para que se vaya saltando las palabras de 2 en 2\n",
        "print( Carrera [-1:-12:-1]) #para que la palabra computación aparezca al revés\n",
        "print( Carrera [-1:-12:-2]) #para que se salte dos palabras en el anterior ejemplo"
      ],
      "execution_count": 19,
      "outputs": [
        {
          "output_type": "stream",
          "name": "stdout",
          "text": [
            "Ingenieria\n",
            "computación\n",
            "computació\n",
            "Ingenieria\n",
            "computación\n",
            "\n",
            "Ignei\n",
            "nóicatupmoc\n",
            "niaumc\n"
          ]
        }
      ]
    },
    {
      "cell_type": "markdown",
      "metadata": {
        "id": "HgzEoQHD0eMD"
      },
      "source": [
        "# String y sus métodos\n",
        "# Todos los tipos de datos en Python son objetos (Clase de la POO)\n",
        "### Lo cual significa que tiene atributos y metodos \n",
        "## dir() y help () son funciones para obtener ayuda del lenguaje Python.\n",
        "\n",
        "### dir muestra las funciones de un tipo de dato como resumen \n",
        "### help muestra la misma ayuda pero en detalle\n",
        "\n",
        "Lo smetodos que inician con doble guion bajo son privados de uso interno de la clase y no deberiamos usarlos \n",
        "Todos los demas son de uso exterior, es decir, para el usuario."
      ]
    },
    {
      "cell_type": "code",
      "metadata": {
        "colab": {
          "base_uri": "https://localhost:8080/"
        },
        "id": "yJAdO9il05Nt",
        "outputId": "99b20df7-c80d-4138-9bdf-546e3decdace"
      },
      "source": [
        "frutas = \" limon , fresa, manzana , aguacate  \" # si le dejo espacio, tambien aparecera cuando lo corra.\n",
        "nombre = \"jose\"\n",
        "print(frutas)\n",
        "  #Va a aparecer una lista de metodos \n",
        "\n",
        "print( nombre.capitalize() ) #para hacer la primer letra en mayuscula y la palabra capitalize viene cuando imprimimos dir\n",
        "print( nombre.upper() )  #Va a aparecer una lista de metodos \n",
        "print(frutas.replace( 'a' , '4' ) ) # para reemplazar la a por un 4\n",
        "dir(str)\n",
        "\n",
        "print(frutas.replace( 'a' , '4' ).upper() ) # para cambiarlo a mayusculas\n",
        "\n",
        "print(frutas.replace( 'a' , '4' ).replace('e' , '3').upper() ) \n",
        "frutas = (frutas.replace( 'a' , '4' ).replace('e' , '3').upper() ) #para ya asignarle el valor definitivamente\n",
        "print(frutas)\n",
        "\n",
        "print(\"._._._._._\")\n",
        "frutas = \" limon , fresa, manzana , aguacate \"\n",
        "print(frutas.strip()) # reinvierte lo que se hizo\n",
        "print(frutas.split()) # separa las palabras dependiendo el espacio que vayamos dejando \n",
        "print(frutas.split(','))\n",
        "print(frutas.index(\"n\")) #para ver en qué posición esta la letra n en este caso"
      ],
      "execution_count": 37,
      "outputs": [
        {
          "output_type": "stream",
          "name": "stdout",
          "text": [
            " limon , fresa, manzana , aguacate  \n",
            "Jose\n",
            "JOSE\n",
            " limon , fres4, m4nz4n4 , 4gu4c4te  \n",
            " LIMON , FRES4, M4NZ4N4 , 4GU4C4TE  \n",
            " LIMON , FR3S4, M4NZ4N4 , 4GU4C4T3  \n",
            " LIMON , FR3S4, M4NZ4N4 , 4GU4C4T3  \n",
            "._._._._._\n",
            "limon , fresa, manzana , aguacate\n",
            "['limon', ',', 'fresa,', 'manzana', ',', 'aguacate']\n",
            "[' limon ', ' fresa', ' manzana ', ' aguacate ']\n",
            "5\n"
          ]
        }
      ]
    },
    {
      "cell_type": "markdown",
      "metadata": {
        "id": "HOOT9ZJf8TTU"
      },
      "source": [
        "# String y caracteres de escape \n",
        "\n",
        "si yo quiero imprimir \"Jose\"\n",
        "\n",
        "caracteres de escape:\n",
        "- \\\"  --> \"\n",
        "- \\'  --> '\n",
        "- \\n  --> salto de linea (tecla enter)\n",
        "- \\t  --> tabulador espacios a la izq.\n",
        "- \\uxxxx  --> caracteres unicode\n",
        "- \\Uxxxxxxxx --> unicode extendido"
      ]
    },
    {
      "cell_type": "code",
      "metadata": {
        "colab": {
          "base_uri": "https://localhost:8080/"
        },
        "id": "gWxFfabj8vYt",
        "outputId": "83150322-23e1-4071-bde2-4731b5f40c24"
      },
      "source": [
        "print(\" \\\"jose\\\" \")\n",
        "nombre = \" \\\" jose\\\" \"\n",
        "print(nombre)\n",
        "carrera = \"Ingeniería \\n\\ten \\n\\t\\tComputación\"\n",
        "print(carrera )\n"
      ],
      "execution_count": 40,
      "outputs": [
        {
          "output_type": "stream",
          "name": "stdout",
          "text": [
            " \"jose\" \n",
            " \" jose\" \n",
            "Ingeniería \n",
            "\ten \n",
            "\t\tComputación\n"
          ]
        }
      ]
    }
  ]
}